{
 "cells": [
  {
   "cell_type": "code",
   "execution_count": 71,
   "metadata": {},
   "outputs": [
    {
     "data": {
      "text/plain": [
       "(4, 2, 576, 285, 1172)"
      ]
     },
     "execution_count": 71,
     "metadata": {},
     "output_type": "execute_result"
    }
   ],
   "source": [
    "def TransBackLables(H,W,lable):\n",
    "    _class, x, y, w, h = lable\n",
    "    _class, x, y, w, h = int(_class), float(x), float(y),float(w), float(h)\n",
    "    w = w * W\n",
    "    h = h * H\n",
    "    x = x * W\n",
    "    y = y * H\n",
    "#     print(w,h,x,y)\n",
    "    a1 = x - w/2\n",
    "    a2 = x + w/2\n",
    "    b1 = y - h/2\n",
    "    b2 = y + h/2\n",
    "    \n",
    "    return int(_class),int(a1),int(b1),int(a2),int(b2)\n",
    "\n",
    "TransBackLables(3504,5800,[4,0.0248206,0.249515,0.0487618,0.170225])"
   ]
  },
  {
   "cell_type": "code",
   "execution_count": 73,
   "metadata": {
    "scrolled": true
   },
   "outputs": [
    {
     "data": {
      "text/plain": [
       "True"
      ]
     },
     "execution_count": 73,
     "metadata": {},
     "output_type": "execute_result"
    }
   ],
   "source": [
    "import cv2\n",
    " \n",
    "fname = '/home/xsb/battery/±ÈÈüÎÄ¼þ/train/0133.jpg'\n",
    "img = cv2.imread(fname)\n",
    " \n",
    "cv2.rectangle(img, (5528, 242), (5558, 333), (0,255,0), 4)\n",
    " \n",
    "font = cv2.FONT_HERSHEY_SIMPLEX\n",
    "text = '001'\n",
    "cv2.putText(img, text, (50, 50), font, 1, (0,0,255), 1)\n",
    "cv2.imwrite('/home/xsb/battery/±ÈÈüÎÄ¼þ/train/0133-1.jpg', img)"
   ]
  },
  {
   "cell_type": "markdown",
   "metadata": {},
   "source": [
    "\n",
    "在得到的labels文件夹中，对每个文件：  \n",
    "取文件夹名，  \n",
    "读每一行，  \n",
    "转换坐标，  \n",
    "写入到最终文件  "
   ]
  },
  {
   "cell_type": "code",
   "execution_count": 146,
   "metadata": {},
   "outputs": [],
   "source": [
    "# 运行代码的机器不是本机 传回结果\n",
    "! sshpass -p 1 scp -r r@10.30.12.64:~/xsb/dfgx/yolov5/runs/test/exp98 ./"
   ]
  },
  {
   "cell_type": "code",
   "execution_count": 147,
   "metadata": {
    "scrolled": true
   },
   "outputs": [
    {
     "name": "stderr",
     "output_type": "stream",
     "text": [
      "100%|██████████| 390/390 [01:21<00:00,  4.77it/s]\n"
     ]
    }
   ],
   "source": [
    "import os\n",
    "import cv2\n",
    "from tqdm import tqdm\n",
    "\n",
    "path = \"/home/xsb/文档/DFGX/exp98/labels\"\n",
    "imageDir = \"/home/xsb/battery/±ÈÈüÎÄ¼þ/newtest\"\n",
    "fileList = os.listdir(path)\n",
    "fileList = sorted(fileList)\n",
    "# print(fileList)\n",
    "for file in tqdm(fileList):\n",
    "#     numPic = pic[:-4]\n",
    "#     _path = os.path.join(path, \"gt\",numPic)\n",
    "#     print(file)\n",
    "    imgName = file[:4]\n",
    "    imgName = imgName + \".jpg\"\n",
    "    picName = os.path.join(imageDir,file[:4]+\".jpg\")\n",
    "#     print(\"processing:\",picName)\n",
    "    img = cv2.imread(picName)\n",
    "    H, W, _ = img.shape\n",
    "#     print(\"H: %d, W : %d\"%(H,W))\n",
    "    \n",
    "    with open(path+\"/out.txt\",\"a\") as file_:\n",
    "            file_.writelines([imgName,\",\"])\n",
    "            \n",
    "    for line in open(os.path.join(path,file)):    \n",
    "        str_list = line.split(\" \")\n",
    "        _class, a1, b1, a2, b2 = TransBackLables(H,W,str_list)\n",
    "#         out = TransBackLables(H,W,str_list)\n",
    "#         print(out)\n",
    "        msg = \"%d,%d,%d,%d,%d,\"%(_class, a1, b1, a2, b2)\n",
    "        #将msg写入txt\n",
    "        with open(path+\"/out.txt\",\"a\") as file:\n",
    "            file.writelines(msg)\n",
    "    with open(path+\"/out.txt\",\"a\") as file:\n",
    "            file.writelines(\"\\n\")\n",
    "    \n",
    "    csv_file = path+\"/out.txt\"\n",
    "        \n",
    "#         print(str_list) "
   ]
  },
  {
   "cell_type": "code",
   "execution_count": 41,
   "metadata": {},
   "outputs": [],
   "source": [
    "import csv\n",
    "# 生成最后的csv文件，但是不能用，格式应该有些问题，最后没有用这段\n",
    "inputfile = csv_file\n",
    "outputfile = csv_file[:-3] + \".csv\"\n",
    "row = []\n",
    "csvfile = open(outputfile, 'w',newline='')\n",
    "writer = csv.writer(csvfile)\n",
    "writer.writerow(row)\n",
    "lines = open(inputfile, 'r', encoding='utf-8').readlines()\n",
    "for line in lines:\n",
    "    csvfile.write(line)\n",
    "csvfile.close()\n",
    " \n",
    "\n",
    " \n",
    "    \n",
    "    "
   ]
  },
  {
   "cell_type": "code",
   "execution_count": null,
   "metadata": {},
   "outputs": [],
   "source": []
  }
 ],
 "metadata": {
  "kernelspec": {
   "display_name": "Python [conda env:dbnet]",
   "language": "python",
   "name": "conda-env-dbnet-py"
  },
  "language_info": {
   "codemirror_mode": {
    "name": "ipython",
    "version": 3
   },
   "file_extension": ".py",
   "mimetype": "text/x-python",
   "name": "python",
   "nbconvert_exporter": "python",
   "pygments_lexer": "ipython3",
   "version": "3.6.12"
  }
 },
 "nbformat": 4,
 "nbformat_minor": 4
}
